{
  "nbformat": 4,
  "nbformat_minor": 0,
  "metadata": {
    "kernelspec": {
      "display_name": "Python 3",
      "language": "python",
      "name": "python3"
    },
    "language_info": {
      "codemirror_mode": {
        "name": "ipython",
        "version": 3
      },
      "file_extension": ".py",
      "mimetype": "text/x-python",
      "name": "python",
      "nbconvert_exporter": "python",
      "pygments_lexer": "ipython3",
      "version": "3.7.4"
    },
    "colab": {
      "name": "HW10.ipynb",
      "provenance": []
    }
  },
  "cells": [
    {
      "cell_type": "markdown",
      "metadata": {
        "id": "mVJWllq466Xx"
      },
      "source": [
        "## IMDB Datasets"
      ]
    },
    {
      "cell_type": "code",
      "metadata": {
        "colab": {
          "base_uri": "https://localhost:8080/"
        },
        "id": "rEeW33k966X4",
        "outputId": "ed526293-a80e-43db-f693-17455aa03e99"
      },
      "source": [
        "import numpy as np\n",
        "from tensorflow import keras\n",
        "from keras import models \n",
        "from keras import layers\n",
        "import matplotlib.pyplot as plt\n",
        "import tensorflow as tf\n",
        "\n",
        "from keras.datasets import imdb\n",
        "# https://www.imdb.com/\n",
        "(X, y_train), (X_test, y_test) = imdb.load_data(num_words=10000)"
      ],
      "execution_count": 2,
      "outputs": [
        {
          "output_type": "stream",
          "text": [
            "Downloading data from https://storage.googleapis.com/tensorflow/tf-keras-datasets/imdb.npz\n",
            "17465344/17464789 [==============================] - 0s 0us/step\n"
          ],
          "name": "stdout"
        },
        {
          "output_type": "stream",
          "text": [
            "<string>:6: VisibleDeprecationWarning: Creating an ndarray from ragged nested sequences (which is a list-or-tuple of lists-or-tuples-or ndarrays with different lengths or shapes) is deprecated. If you meant to do this, you must specify 'dtype=object' when creating the ndarray\n",
            "/usr/local/lib/python3.6/dist-packages/tensorflow/python/keras/datasets/imdb.py:159: VisibleDeprecationWarning: Creating an ndarray from ragged nested sequences (which is a list-or-tuple of lists-or-tuples-or ndarrays with different lengths or shapes) is deprecated. If you meant to do this, you must specify 'dtype=object' when creating the ndarray\n",
            "  x_train, y_train = np.array(xs[:idx]), np.array(labels[:idx])\n",
            "/usr/local/lib/python3.6/dist-packages/tensorflow/python/keras/datasets/imdb.py:160: VisibleDeprecationWarning: Creating an ndarray from ragged nested sequences (which is a list-or-tuple of lists-or-tuples-or ndarrays with different lengths or shapes) is deprecated. If you meant to do this, you must specify 'dtype=object' when creating the ndarray\n",
            "  x_test, y_test = np.array(xs[idx:]), np.array(labels[idx:])\n"
          ],
          "name": "stderr"
        }
      ]
    },
    {
      "cell_type": "code",
      "metadata": {
        "id": "kMrsYz0c66X5"
      },
      "source": [
        "# text to vector\n",
        "def vect(seq, dim=10000):\n",
        "    x=np.zeros((len(seq),dim))\n",
        "    for n, i in enumerate(seq):\n",
        "        x[n, i] = 1\n",
        "    return x\n",
        "\n",
        "X_train=vect(X)\n",
        "X_test=vect(X_test)"
      ],
      "execution_count": 3,
      "outputs": []
    },
    {
      "cell_type": "code",
      "metadata": {
        "colab": {
          "base_uri": "https://localhost:8080/"
        },
        "id": "Qm_720cx66X5",
        "outputId": "78ff193c-fcfc-41e8-bf9e-341fcb0b84d8"
      },
      "source": [
        "X_train[0]"
      ],
      "execution_count": 4,
      "outputs": [
        {
          "output_type": "execute_result",
          "data": {
            "text/plain": [
              "array([0., 1., 1., ..., 0., 0., 0.])"
            ]
          },
          "metadata": {
            "tags": []
          },
          "execution_count": 4
        }
      ]
    },
    {
      "cell_type": "code",
      "metadata": {
        "colab": {
          "base_uri": "https://localhost:8080/"
        },
        "id": "9-taCOZb66X7",
        "outputId": "4385c38a-8054-4a35-cd75-e3bd200ad224"
      },
      "source": [
        "net = models.Sequential()\n",
        "net.add(layers.Dense(16, activation='relu', input_shape=(10000,)))\n",
        "net.add(layers.Dropout(0.5))\n",
        "net.add(layers.Dense(16, activation='relu'))\n",
        "net.add(layers.Dropout(0.5))\n",
        "net.add(layers.Dense(1, activation='sigmoid'))\n",
        "net.compile(optimizer='nadam', loss='binary_crossentropy', metrics = ['acc'])\n",
        "\n",
        "X_val = X_train[:10000]\n",
        "partial_X_train = X_train[10000:]\n",
        "\n",
        "y_val = y_train[:10000]\n",
        "partial_y_train = y_train[10000:]\n",
        "\n",
        "val = net.fit(partial_X_train, partial_y_train, epochs=5, batch_size=128, validation_data=(X_val, y_val))"
      ],
      "execution_count": 5,
      "outputs": [
        {
          "output_type": "stream",
          "text": [
            "Epoch 1/5\n",
            "118/118 [==============================] - 3s 16ms/step - loss: 0.6562 - acc: 0.5791 - val_loss: 0.3891 - val_acc: 0.8662\n",
            "Epoch 2/5\n",
            "118/118 [==============================] - 1s 12ms/step - loss: 0.4110 - acc: 0.8347 - val_loss: 0.2965 - val_acc: 0.8782\n",
            "Epoch 3/5\n",
            "118/118 [==============================] - 2s 13ms/step - loss: 0.2909 - acc: 0.8952 - val_loss: 0.2936 - val_acc: 0.8772\n",
            "Epoch 4/5\n",
            "118/118 [==============================] - 1s 12ms/step - loss: 0.2233 - acc: 0.9217 - val_loss: 0.2794 - val_acc: 0.8885\n",
            "Epoch 5/5\n",
            "118/118 [==============================] - 1s 12ms/step - loss: 0.1762 - acc: 0.9411 - val_loss: 0.3168 - val_acc: 0.8841\n"
          ],
          "name": "stdout"
        }
      ]
    },
    {
      "cell_type": "code",
      "metadata": {
        "colab": {
          "base_uri": "https://localhost:8080/",
          "height": 283
        },
        "id": "3QhN4_Nu66X7",
        "outputId": "3c00af90-6b72-4025-92fb-639b6f145594"
      },
      "source": [
        "val_dict = val.history\n",
        "loss = val_dict['loss']\n",
        "val_loss = val_dict['val_loss']\n",
        "x = np.arange(0,len(loss))\n",
        "\n",
        "plt.plot(x,loss,'-')\n",
        "plt.plot(x,val_loss,'o')"
      ],
      "execution_count": 6,
      "outputs": [
        {
          "output_type": "execute_result",
          "data": {
            "text/plain": [
              "[<matplotlib.lines.Line2D at 0x7f1bf5a68dd8>]"
            ]
          },
          "metadata": {
            "tags": []
          },
          "execution_count": 6
        },
        {
          "output_type": "display_data",
          "data": {
            "image/png": "[encoded data removed]",
            "text/plain": [
              "<Figure size 432x288 with 1 Axes>"
            ]
          },
          "metadata": {
            "tags": [],
            "needs_background": "light"
          }
        }
      ]
    },
    {
      "cell_type": "code",
      "metadata": {
        "colab": {
          "base_uri": "https://localhost:8080/"
        },
        "id": "R6gH508L66X8",
        "outputId": "489aefda-e4bf-4240-f8b3-19c46588f933"
      },
      "source": [
        "test_loss, test_acc = net.evaluate(X_test,y_test)"
      ],
      "execution_count": 7,
      "outputs": [
        {
          "output_type": "stream",
          "text": [
            "782/782 [==============================] - 1s 2ms/step - loss: 0.3365 - acc: 0.8756\n"
          ],
          "name": "stdout"
        }
      ]
    },
    {
      "cell_type": "markdown",
      "metadata": {
        "id": "SDCkyLRa66X8"
      },
      "source": [
        "### IMDB Classification using simple RNN"
      ]
    },
    {
      "cell_type": "code",
      "metadata": {
        "colab": {
          "base_uri": "https://localhost:8080/"
        },
        "id": "y2iAQ3Z366X8",
        "outputId": "428867fd-7bb1-47ea-e87a-6f649504799f"
      },
      "source": [
        "from keras.preprocessing import sequence\n",
        "\n",
        "max_words=10000 \n",
        "(X_train, y_train), (X_test, y_test) = imdb.load_data(num_words=max_words)\n",
        "\n",
        "maxlen = 100 # sequence length\n",
        "X_train = sequence.pad_sequences(X_train, maxlen=maxlen)\n",
        "X_test = sequence.pad_sequences(X_test, maxlen=maxlen)\n",
        "train = tf.data.Dataset.from_tensor_slices((X_train, y_train)).shuffle(1000).batch(32)\n",
        "test = tf.data.Dataset.from_tensor_slices((X_test, y_test)).batch(32)"
      ],
      "execution_count": 8,
      "outputs": [
        {
          "output_type": "stream",
          "text": [
            "<string>:6: VisibleDeprecationWarning: Creating an ndarray from ragged nested sequences (which is a list-or-tuple of lists-or-tuples-or ndarrays with different lengths or shapes) is deprecated. If you meant to do this, you must specify 'dtype=object' when creating the ndarray\n",
            "/usr/local/lib/python3.6/dist-packages/tensorflow/python/keras/datasets/imdb.py:159: VisibleDeprecationWarning: Creating an ndarray from ragged nested sequences (which is a list-or-tuple of lists-or-tuples-or ndarrays with different lengths or shapes) is deprecated. If you meant to do this, you must specify 'dtype=object' when creating the ndarray\n",
            "  x_train, y_train = np.array(xs[:idx]), np.array(labels[:idx])\n",
            "/usr/local/lib/python3.6/dist-packages/tensorflow/python/keras/datasets/imdb.py:160: VisibleDeprecationWarning: Creating an ndarray from ragged nested sequences (which is a list-or-tuple of lists-or-tuples-or ndarrays with different lengths or shapes) is deprecated. If you meant to do this, you must specify 'dtype=object' when creating the ndarray\n",
            "  x_test, y_test = np.array(xs[idx:]), np.array(labels[idx:])\n"
          ],
          "name": "stderr"
        }
      ]
    },
    {
      "cell_type": "code",
      "metadata": {
        "colab": {
          "base_uri": "https://localhost:8080/"
        },
        "id": "Dak1j93U66X9",
        "outputId": "b3c1f650-d91c-4dbc-a8bb-c4bb9125cda6"
      },
      "source": [
        "X_train[0]"
      ],
      "execution_count": 9,
      "outputs": [
        {
          "output_type": "execute_result",
          "data": {
            "text/plain": [
              "array([1415,   33,    6,   22,   12,  215,   28,   77,   52,    5,   14,\n",
              "        407,   16,   82,    2,    8,    4,  107,  117, 5952,   15,  256,\n",
              "          4,    2,    7, 3766,    5,  723,   36,   71,   43,  530,  476,\n",
              "         26,  400,  317,   46,    7,    4,    2, 1029,   13,  104,   88,\n",
              "          4,  381,   15,  297,   98,   32, 2071,   56,   26,  141,    6,\n",
              "        194, 7486,   18,    4,  226,   22,   21,  134,  476,   26,  480,\n",
              "          5,  144,   30, 5535,   18,   51,   36,   28,  224,   92,   25,\n",
              "        104,    4,  226,   65,   16,   38, 1334,   88,   12,   16,  283,\n",
              "          5,   16, 4472,  113,  103,   32,   15,   16, 5345,   19,  178,\n",
              "         32], dtype=int32)"
            ]
          },
          "metadata": {
            "tags": []
          },
          "execution_count": 9
        }
      ]
    },
    {
      "cell_type": "code",
      "metadata": {
        "id": "ZK4-mpln66X9"
      },
      "source": [
        "rnn = models.Sequential()\n",
        "rnn.add(layers.Embedding(max_words, 16)) \n",
        "rnn.add(layers.SimpleRNN(32,return_sequences='True')) \n",
        "rnn.add(layers.Dense(1, activation = 'sigmoid'))"
      ],
      "execution_count": 10,
      "outputs": []
    },
    {
      "cell_type": "code",
      "metadata": {
        "id": "ranY_fpw8CsS"
      },
      "source": [
        "rnn.compile(optimizer='adam',loss='binary_crossentropy', metrics=['accuracy'])"
      ],
      "execution_count": 11,
      "outputs": []
    },
    {
      "cell_type": "code",
      "metadata": {
        "colab": {
          "base_uri": "https://localhost:8080/"
        },
        "id": "ybXo0EKN8D7N",
        "outputId": "a4d2c4b0-a283-444e-f17f-e6c0ca3681fc"
      },
      "source": [
        "rnn2=rnn.fit(train, validation_data=test, epochs=10)\r\n"
      ],
      "execution_count": 13,
      "outputs": [
        {
          "output_type": "stream",
          "text": [
            "Epoch 1/10\n",
            "782/782 [==============================] - 21s 26ms/step - loss: 0.4105 - accuracy: 0.8084 - val_loss: 0.5318 - val_accuracy: 0.7276\n",
            "Epoch 2/10\n",
            "782/782 [==============================] - 20s 26ms/step - loss: 0.3864 - accuracy: 0.8218 - val_loss: 0.5835 - val_accuracy: 0.7221\n",
            "Epoch 3/10\n",
            "782/782 [==============================] - 20s 26ms/step - loss: 0.3577 - accuracy: 0.8348 - val_loss: 0.6200 - val_accuracy: 0.7180\n",
            "Epoch 4/10\n",
            "782/782 [==============================] - 20s 26ms/step - loss: 0.3380 - accuracy: 0.8445 - val_loss: 0.6090 - val_accuracy: 0.7131\n",
            "Epoch 5/10\n",
            "782/782 [==============================] - 21s 26ms/step - loss: 0.3119 - accuracy: 0.8558 - val_loss: 0.6229 - val_accuracy: 0.7116\n",
            "Epoch 6/10\n",
            "782/782 [==============================] - 21s 26ms/step - loss: 0.2886 - accuracy: 0.8666 - val_loss: 0.7414 - val_accuracy: 0.7037\n",
            "Epoch 7/10\n",
            "782/782 [==============================] - 21s 26ms/step - loss: 0.2731 - accuracy: 0.8739 - val_loss: 0.8315 - val_accuracy: 0.6899\n",
            "Epoch 8/10\n",
            "782/782 [==============================] - 21s 26ms/step - loss: 0.2567 - accuracy: 0.8810 - val_loss: 0.7632 - val_accuracy: 0.6969\n",
            "Epoch 9/10\n",
            "782/782 [==============================] - 20s 26ms/step - loss: 0.2351 - accuracy: 0.8907 - val_loss: 0.7556 - val_accuracy: 0.6984\n",
            "Epoch 10/10\n",
            "782/782 [==============================] - 20s 26ms/step - loss: 0.2337 - accuracy: 0.8916 - val_loss: 0.8255 - val_accuracy: 0.6941\n"
          ],
          "name": "stdout"
        }
      ]
    },
    {
      "cell_type": "code",
      "metadata": {
        "id": "PwAMI4Sk8D1B"
      },
      "source": [
        "score, acc = rnn.evaluate(X_test, y_test, verbose=0)"
      ],
      "execution_count": 25,
      "outputs": []
    },
    {
      "cell_type": "code",
      "metadata": {
        "id": "EAOjw8GY_pea",
        "outputId": "38680e68-5af7-4c32-c22b-d7ea14d458bc",
        "colab": {
          "base_uri": "https://localhost:8080/"
        }
      },
      "source": [
        "print (score, acc)"
      ],
      "execution_count": 27,
      "outputs": [
        {
          "output_type": "stream",
          "text": [
            "[0.8254680633544922, 0.6941270232200623] 0.6941270232200623\n"
          ],
          "name": "stdout"
        }
      ]
    }
  ]
}