{
  "nbformat": 4,
  "nbformat_minor": 0,
  "metadata": {
    "colab": {
      "name": "Untitled3.ipynb",
      "provenance": [],
      "toc_visible": true,
      "authorship_tag": "ABX9TyN7AXaQGBTf3JcMv1zw2H3G"
    },
    "kernelspec": {
      "name": "python3",
      "display_name": "Python 3"
    }
  },
  "cells": [
    {
      "cell_type": "markdown",
      "metadata": {
        "id": "DbyuQ9ZZ_3kG"
      },
      "source": [
        "# 1. 구구단 함수"
      ]
    },
    {
      "cell_type": "markdown",
      "metadata": {
        "id": "CJ7YBTG7GKww"
      },
      "source": [
        "1.1. 구구단 전체 출력"
      ]
    },
    {
      "cell_type": "code",
      "metadata": {
        "id": "p4RwUWGP895Q",
        "outputId": "e768813b-3c7c-4176-88b2-4b9c116cebba",
        "colab": {
          "base_uri": "https://localhost:8080/",
          "height": 1000
        }
      },
      "source": [
        "print\n",
        "for x in range(1, 10):\n",
        "    for y in range(1, 10):\n",
        "        print(x,\"x\", y, \"=\", x*y)"
      ],
      "execution_count": 12,
      "outputs": [
        {
          "output_type": "stream",
          "text": [
            "1 x 1 = 1\n",
            "1 x 2 = 2\n",
            "1 x 3 = 3\n",
            "1 x 4 = 4\n",
            "1 x 5 = 5\n",
            "1 x 6 = 6\n",
            "1 x 7 = 7\n",
            "1 x 8 = 8\n",
            "1 x 9 = 9\n",
            "2 x 1 = 2\n",
            "2 x 2 = 4\n",
            "2 x 3 = 6\n",
            "2 x 4 = 8\n",
            "2 x 5 = 10\n",
            "2 x 6 = 12\n",
            "2 x 7 = 14\n",
            "2 x 8 = 16\n",
            "2 x 9 = 18\n",
            "3 x 1 = 3\n",
            "3 x 2 = 6\n",
            "3 x 3 = 9\n",
            "3 x 4 = 12\n",
            "3 x 5 = 15\n",
            "3 x 6 = 18\n",
            "3 x 7 = 21\n",
            "3 x 8 = 24\n",
            "3 x 9 = 27\n",
            "4 x 1 = 4\n",
            "4 x 2 = 8\n",
            "4 x 3 = 12\n",
            "4 x 4 = 16\n",
            "4 x 5 = 20\n",
            "4 x 6 = 24\n",
            "4 x 7 = 28\n",
            "4 x 8 = 32\n",
            "4 x 9 = 36\n",
            "5 x 1 = 5\n",
            "5 x 2 = 10\n",
            "5 x 3 = 15\n",
            "5 x 4 = 20\n",
            "5 x 5 = 25\n",
            "5 x 6 = 30\n",
            "5 x 7 = 35\n",
            "5 x 8 = 40\n",
            "5 x 9 = 45\n",
            "6 x 1 = 6\n",
            "6 x 2 = 12\n",
            "6 x 3 = 18\n",
            "6 x 4 = 24\n",
            "6 x 5 = 30\n",
            "6 x 6 = 36\n",
            "6 x 7 = 42\n",
            "6 x 8 = 48\n",
            "6 x 9 = 54\n",
            "7 x 1 = 7\n",
            "7 x 2 = 14\n",
            "7 x 3 = 21\n",
            "7 x 4 = 28\n",
            "7 x 5 = 35\n",
            "7 x 6 = 42\n",
            "7 x 7 = 49\n",
            "7 x 8 = 56\n",
            "7 x 9 = 63\n",
            "8 x 1 = 8\n",
            "8 x 2 = 16\n",
            "8 x 3 = 24\n",
            "8 x 4 = 32\n",
            "8 x 5 = 40\n",
            "8 x 6 = 48\n",
            "8 x 7 = 56\n",
            "8 x 8 = 64\n",
            "8 x 9 = 72\n",
            "9 x 1 = 9\n",
            "9 x 2 = 18\n",
            "9 x 3 = 27\n",
            "9 x 4 = 36\n",
            "9 x 5 = 45\n",
            "9 x 6 = 54\n",
            "9 x 7 = 63\n",
            "9 x 8 = 72\n",
            "9 x 9 = 81\n"
          ],
          "name": "stdout"
        }
      ]
    },
    {
      "cell_type": "markdown",
      "metadata": {
        "id": "lxdrk9b-GP0M"
      },
      "source": [
        "1.2. 구구단 단별 출력 (i에 입력)\n",
        "\n"
      ]
    },
    {
      "cell_type": "code",
      "metadata": {
        "id": "8SRfL4oNGPdD",
        "outputId": "7a6bb85a-e316-4c10-91b3-dae3b6c00af8",
        "colab": {
          "base_uri": "https://localhost:8080/",
          "height": 179
        }
      },
      "source": [
        "i=5\n",
        "\n",
        "for o in range(1,10) :\n",
        "  print(i*o)"
      ],
      "execution_count": 14,
      "outputs": [
        {
          "output_type": "stream",
          "text": [
            "5\n",
            "10\n",
            "15\n",
            "20\n",
            "25\n",
            "30\n",
            "35\n",
            "40\n",
            "45\n"
          ],
          "name": "stdout"
        }
      ]
    },
    {
      "cell_type": "markdown",
      "metadata": {
        "id": "yzTovPMZGsuZ"
      },
      "source": [
        "# 2. 홀수/짝수 판별"
      ]
    },
    {
      "cell_type": "code",
      "metadata": {
        "id": "CMms8SBPGb2P",
        "outputId": "ecc0bdb7-a26c-4c21-c27b-40033f7149d4",
        "colab": {
          "base_uri": "https://localhost:8080/",
          "height": 35
        }
      },
      "source": [
        "a=517\n",
        "\n",
        "if(a%2==1):\n",
        "  print(\"홀수\")\n",
        "else:\n",
        "    print(\"짝수\")"
      ],
      "execution_count": 39,
      "outputs": [
        {
          "output_type": "stream",
          "text": [
            "홀수\n"
          ],
          "name": "stdout"
        }
      ]
    },
    {
      "cell_type": "markdown",
      "metadata": {
        "id": "sIQbIGWQIdjm"
      },
      "source": [
        "# 3. 평균"
      ]
    },
    {
      "cell_type": "code",
      "metadata": {
        "id": "AqmNyJD3J5Zk"
      },
      "source": [
        "import numpy as np"
      ],
      "execution_count": 48,
      "outputs": []
    },
    {
      "cell_type": "code",
      "metadata": {
        "id": "Oglprpbo9Fb4"
      },
      "source": [
        "a=list(range(110, 990, 5))"
      ],
      "execution_count": 43,
      "outputs": []
    },
    {
      "cell_type": "code",
      "metadata": {
        "id": "mt9ls8GnJvGA"
      },
      "source": [
        "b=np.array(a)"
      ],
      "execution_count": 49,
      "outputs": []
    },
    {
      "cell_type": "code",
      "metadata": {
        "id": "3IibLcJ4KBxE",
        "outputId": "6f6419f3-1139-45dc-bf3d-7053212c000a",
        "colab": {
          "base_uri": "https://localhost:8080/",
          "height": 269
        }
      },
      "source": [
        "b"
      ],
      "execution_count": 50,
      "outputs": [
        {
          "output_type": "execute_result",
          "data": {
            "text/plain": [
              "array([110, 115, 120, 125, 130, 135, 140, 145, 150, 155, 160, 165, 170,\n",
              "       175, 180, 185, 190, 195, 200, 205, 210, 215, 220, 225, 230, 235,\n",
              "       240, 245, 250, 255, 260, 265, 270, 275, 280, 285, 290, 295, 300,\n",
              "       305, 310, 315, 320, 325, 330, 335, 340, 345, 350, 355, 360, 365,\n",
              "       370, 375, 380, 385, 390, 395, 400, 405, 410, 415, 420, 425, 430,\n",
              "       435, 440, 445, 450, 455, 460, 465, 470, 475, 480, 485, 490, 495,\n",
              "       500, 505, 510, 515, 520, 525, 530, 535, 540, 545, 550, 555, 560,\n",
              "       565, 570, 575, 580, 585, 590, 595, 600, 605, 610, 615, 620, 625,\n",
              "       630, 635, 640, 645, 650, 655, 660, 665, 670, 675, 680, 685, 690,\n",
              "       695, 700, 705, 710, 715, 720, 725, 730, 735, 740, 745, 750, 755,\n",
              "       760, 765, 770, 775, 780, 785, 790, 795, 800, 805, 810, 815, 820,\n",
              "       825, 830, 835, 840, 845, 850, 855, 860, 865, 870, 875, 880, 885,\n",
              "       890, 895, 900, 905, 910, 915, 920, 925, 930, 935, 940, 945, 950,\n",
              "       955, 960, 965, 970, 975, 980, 985])"
            ]
          },
          "metadata": {
            "tags": []
          },
          "execution_count": 50
        }
      ]
    },
    {
      "cell_type": "code",
      "metadata": {
        "id": "eLlzzebrKDkO"
      },
      "source": [
        "평균값=np.mean(b)"
      ],
      "execution_count": 52,
      "outputs": []
    },
    {
      "cell_type": "code",
      "metadata": {
        "id": "j-tOFSzDKJ8A",
        "outputId": "cd4ab1ed-bf7f-4826-ab7d-6a6f2b46b451",
        "colab": {
          "base_uri": "https://localhost:8080/",
          "height": 35
        }
      },
      "source": [
        "print (평균값)"
      ],
      "execution_count": 54,
      "outputs": [
        {
          "output_type": "stream",
          "text": [
            "547.5\n"
          ],
          "name": "stdout"
        }
      ]
    }
  ]
}