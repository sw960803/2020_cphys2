{
  "nbformat": 4,
  "nbformat_minor": 0,
  "metadata": {
    "kernelspec": {
      "display_name": "Python 3",
      "language": "python",
      "name": "python3"
    },
    "language_info": {
      "codemirror_mode": {
        "name": "ipython",
        "version": 3
      },
      "file_extension": ".py",
      "mimetype": "text/x-python",
      "name": "python",
      "nbconvert_exporter": "python",
      "pygments_lexer": "ipython3",
      "version": "3.7.4"
    },
    "colab": {
      "name": "assignment7.ipynb의 사본",
      "provenance": [],
      "collapsed_sections": [],
      "toc_visible": true
    }
  },
  "cells": [
    {
      "cell_type": "markdown",
      "metadata": {
        "id": "5F7rocvpvz_H"
      },
      "source": [
        "## MNIST \n",
        "#### MNIST 손글씨 이미지를 다음의 방법으로 분류하고 test data를 이용하여 정확도를 비교하여라.\n",
        "1. Softmax Regression\n",
        "2. Support Vector Machine\n",
        "3. Decision tree or Random forest"
      ]
    },
    {
      "cell_type": "markdown",
      "metadata": {
        "id": "i4WtfnEQ4DBZ"
      },
      "source": [
        "# **테스트** **결과** **(정확도)**\n",
        "1. Softmax Regression\n",
        "# 0.9671\n",
        "2. Support Vector Machine\n",
        "# 0.98475\n",
        "\n",
        "3. Decision tree or Random forest\n",
        "# 0.96 0.9571(검증)\n",
        "\n",
        "\n",
        "\n",
        "\n",
        "\n",
        "\n",
        "\n"
      ]
    },
    {
      "cell_type": "markdown",
      "metadata": {
        "id": "GszXzpA6Wctz"
      },
      "source": [
        "1. **Softmax Regression**\n"
      ]
    },
    {
      "cell_type": "code",
      "metadata": {
        "id": "T8vqf-D7vz_H"
      },
      "source": [
        "from keras.datasets import mnist\n",
        "from tensorflow import keras\n",
        "from keras import models \n",
        "from keras import layers\n",
        "import numpy as np\n",
        "import matplotlib.pyplot as plt\n",
        "from keras.utils import to_categorical\n",
        "\n",
        "(X, y), (X_test, y_test) = mnist.load_data()"
      ],
      "execution_count": null,
      "outputs": []
    },
    {
      "cell_type": "code",
      "metadata": {
        "id": "uFJQU8bPv-s1"
      },
      "source": [
        "#mnist"
      ],
      "execution_count": null,
      "outputs": []
    },
    {
      "cell_type": "code",
      "metadata": {
        "id": "OobClenJwToW"
      },
      "source": [
        "#X"
      ],
      "execution_count": null,
      "outputs": []
    },
    {
      "cell_type": "code",
      "metadata": {
        "id": "A_Gb14ZWwqKE"
      },
      "source": [
        "#y"
      ],
      "execution_count": null,
      "outputs": []
    },
    {
      "cell_type": "code",
      "metadata": {
        "id": "F3cuNPmjwr1B"
      },
      "source": [
        "#X_test[0]"
      ],
      "execution_count": null,
      "outputs": []
    },
    {
      "cell_type": "code",
      "metadata": {
        "id": "1lUqDbyFwuEs"
      },
      "source": [
        "#y_test"
      ],
      "execution_count": null,
      "outputs": []
    },
    {
      "cell_type": "code",
      "metadata": {
        "id": "AisfuBGmwwTb"
      },
      "source": [
        "#X.shape"
      ],
      "execution_count": null,
      "outputs": []
    },
    {
      "cell_type": "code",
      "metadata": {
        "id": "x3CnBRkNw3-g",
        "colab": {
          "base_uri": "https://localhost:8080/"
        },
        "outputId": "1f56c77a-c907-4d52-ec73-179a47900194"
      },
      "source": [
        "X_test.shape"
      ],
      "execution_count": null,
      "outputs": [
        {
          "output_type": "execute_result",
          "data": {
            "text/plain": [
              "(10000, 28, 28)"
            ]
          },
          "metadata": {
            "tags": []
          },
          "execution_count": 125
        }
      ]
    },
    {
      "cell_type": "code",
      "metadata": {
        "id": "0Iq86yq5ykQD",
        "colab": {
          "base_uri": "https://localhost:8080/"
        },
        "outputId": "69e5396e-54b0-421b-d194-a9f59db0d361"
      },
      "source": [
        "y_test.shape"
      ],
      "execution_count": null,
      "outputs": [
        {
          "output_type": "execute_result",
          "data": {
            "text/plain": [
              "(10000,)"
            ]
          },
          "metadata": {
            "tags": []
          },
          "execution_count": 126
        }
      ]
    },
    {
      "cell_type": "code",
      "metadata": {
        "id": "wBvnG5VvxAoV",
        "colab": {
          "base_uri": "https://localhost:8080/",
          "height": 265
        },
        "outputId": "aa0abc39-6b20-4961-9083-f5be2a7e7c1e"
      },
      "source": [
        "plt.figure()\n",
        "plt.imshow(X_test[0])\n",
        "plt.show()"
      ],
      "execution_count": null,
      "outputs": [
        {
          "output_type": "display_data",
          "data": {
            "image/png": "[encoded data removed]",
            "text/plain": [
              "<Figure size 432x288 with 1 Axes>"
            ]
          },
          "metadata": {
            "tags": [],
            "needs_background": "light"
          }
        }
      ]
    },
    {
      "cell_type": "code",
      "metadata": {
        "id": "_FFH97SqyqVZ"
      },
      "source": [
        "X=X.astype('float32')\n",
        "X_test=X_test.astype('float32')\n",
        "\n",
        "X/=255\n",
        "X_test/=255"
      ],
      "execution_count": null,
      "outputs": []
    },
    {
      "cell_type": "code",
      "metadata": {
        "id": "L3IjckVTw_3A"
      },
      "source": [
        "#X_test[0]"
      ],
      "execution_count": null,
      "outputs": []
    },
    {
      "cell_type": "code",
      "metadata": {
        "id": "LqxsTE0G3Em8"
      },
      "source": [
        "y_test = keras.utils.to_categorical(y_test, 10)\n",
        "y= keras.utils.to_categorical(y, 10)\n",
        "\n"
      ],
      "execution_count": null,
      "outputs": []
    },
    {
      "cell_type": "code",
      "metadata": {
        "id": "CLLEPWnGw9_d",
        "colab": {
          "base_uri": "https://localhost:8080/"
        },
        "outputId": "a0cec3f2-fd8b-401b-997d-a7cbd8d531c8"
      },
      "source": [
        "model=keras.models.Sequential()\n",
        "model=keras.Sequential([\n",
        "    keras.layers.Flatten(input_shape=(28,28)),\n",
        "    keras.layers.Dense(128, activation='relu'),\n",
        "    keras.layers.Dense(10, activation='softmax')\n",
        "])\n",
        "model.summary()\n",
        "model.compile(optimizer='SGD', loss='categorical_crossentropy', metrics=['accuracy'])\n"
      ],
      "execution_count": null,
      "outputs": [
        {
          "output_type": "stream",
          "text": [
            "Model: \"sequential_7\"\n",
            "_________________________________________________________________\n",
            "Layer (type)                 Output Shape              Param #   \n",
            "=================================================================\n",
            "flatten_3 (Flatten)          (None, 784)               0         \n",
            "_________________________________________________________________\n",
            "dense_6 (Dense)              (None, 128)               100480    \n",
            "_________________________________________________________________\n",
            "dense_7 (Dense)              (None, 10)                1290      \n",
            "=================================================================\n",
            "Total params: 101,770\n",
            "Trainable params: 101,770\n",
            "Non-trainable params: 0\n",
            "_________________________________________________________________\n"
          ],
          "name": "stdout"
        }
      ]
    },
    {
      "cell_type": "code",
      "metadata": {
        "id": "TUgYvsk51uYF",
        "colab": {
          "base_uri": "https://localhost:8080/"
        },
        "outputId": "0c8c2d12-7a25-4f60-eedc-162f42e95cb7"
      },
      "source": [
        "model.fit(X, y,\n",
        "          batch_size=128, epochs=100,\n",
        "          verbose=1, validation_split=0.2)"
      ],
      "execution_count": null,
      "outputs": [
        {
          "output_type": "stream",
          "text": [
            "Epoch 1/100\n",
            "375/375 [==============================] - 1s 3ms/step - loss: 1.3077 - accuracy: 0.6891 - val_loss: 0.7273 - val_accuracy: 0.8478\n",
            "Epoch 2/100\n",
            "375/375 [==============================] - 1s 3ms/step - loss: 0.6249 - accuracy: 0.8520 - val_loss: 0.4956 - val_accuracy: 0.8810\n",
            "Epoch 3/100\n",
            "375/375 [==============================] - 1s 3ms/step - loss: 0.4855 - accuracy: 0.8754 - val_loss: 0.4168 - val_accuracy: 0.8932\n",
            "Epoch 4/100\n",
            "375/375 [==============================] - 1s 3ms/step - loss: 0.4249 - accuracy: 0.8869 - val_loss: 0.3769 - val_accuracy: 0.9012\n",
            "Epoch 5/100\n",
            "375/375 [==============================] - 1s 3ms/step - loss: 0.3895 - accuracy: 0.8939 - val_loss: 0.3515 - val_accuracy: 0.9047\n",
            "Epoch 6/100\n",
            "375/375 [==============================] - 1s 3ms/step - loss: 0.3657 - accuracy: 0.8999 - val_loss: 0.3343 - val_accuracy: 0.9082\n",
            "Epoch 7/100\n",
            "375/375 [==============================] - 1s 3ms/step - loss: 0.3480 - accuracy: 0.9038 - val_loss: 0.3197 - val_accuracy: 0.9118\n",
            "Epoch 8/100\n",
            "375/375 [==============================] - 1s 3ms/step - loss: 0.3340 - accuracy: 0.9077 - val_loss: 0.3092 - val_accuracy: 0.9156\n",
            "Epoch 9/100\n",
            "375/375 [==============================] - 1s 3ms/step - loss: 0.3224 - accuracy: 0.9100 - val_loss: 0.3003 - val_accuracy: 0.9157\n",
            "Epoch 10/100\n",
            "375/375 [==============================] - 1s 3ms/step - loss: 0.3125 - accuracy: 0.9126 - val_loss: 0.2922 - val_accuracy: 0.9193\n",
            "Epoch 11/100\n",
            "375/375 [==============================] - 1s 3ms/step - loss: 0.3038 - accuracy: 0.9153 - val_loss: 0.2847 - val_accuracy: 0.9202\n",
            "Epoch 12/100\n",
            "375/375 [==============================] - 1s 3ms/step - loss: 0.2960 - accuracy: 0.9166 - val_loss: 0.2783 - val_accuracy: 0.9232\n",
            "Epoch 13/100\n",
            "375/375 [==============================] - 1s 3ms/step - loss: 0.2889 - accuracy: 0.9188 - val_loss: 0.2725 - val_accuracy: 0.9243\n",
            "Epoch 14/100\n",
            "375/375 [==============================] - 1s 3ms/step - loss: 0.2822 - accuracy: 0.9211 - val_loss: 0.2670 - val_accuracy: 0.9253\n",
            "Epoch 15/100\n",
            "375/375 [==============================] - 1s 2ms/step - loss: 0.2761 - accuracy: 0.9225 - val_loss: 0.2621 - val_accuracy: 0.9266\n",
            "Epoch 16/100\n",
            "375/375 [==============================] - 1s 3ms/step - loss: 0.2704 - accuracy: 0.9241 - val_loss: 0.2573 - val_accuracy: 0.9281\n",
            "Epoch 17/100\n",
            "375/375 [==============================] - 1s 3ms/step - loss: 0.2650 - accuracy: 0.9260 - val_loss: 0.2532 - val_accuracy: 0.9289\n",
            "Epoch 18/100\n",
            "375/375 [==============================] - 1s 3ms/step - loss: 0.2600 - accuracy: 0.9272 - val_loss: 0.2489 - val_accuracy: 0.9307\n",
            "Epoch 19/100\n",
            "375/375 [==============================] - 1s 3ms/step - loss: 0.2552 - accuracy: 0.9285 - val_loss: 0.2451 - val_accuracy: 0.9317\n",
            "Epoch 20/100\n",
            "375/375 [==============================] - 1s 3ms/step - loss: 0.2505 - accuracy: 0.9301 - val_loss: 0.2409 - val_accuracy: 0.9327\n",
            "Epoch 21/100\n",
            "375/375 [==============================] - 1s 3ms/step - loss: 0.2463 - accuracy: 0.9311 - val_loss: 0.2375 - val_accuracy: 0.9348\n",
            "Epoch 22/100\n",
            "375/375 [==============================] - 1s 3ms/step - loss: 0.2420 - accuracy: 0.9323 - val_loss: 0.2341 - val_accuracy: 0.9351\n",
            "Epoch 23/100\n",
            "375/375 [==============================] - 1s 3ms/step - loss: 0.2382 - accuracy: 0.9343 - val_loss: 0.2302 - val_accuracy: 0.9367\n",
            "Epoch 24/100\n",
            "375/375 [==============================] - 1s 3ms/step - loss: 0.2342 - accuracy: 0.9352 - val_loss: 0.2274 - val_accuracy: 0.9373\n",
            "Epoch 25/100\n",
            "375/375 [==============================] - 1s 3ms/step - loss: 0.2306 - accuracy: 0.9359 - val_loss: 0.2242 - val_accuracy: 0.9379\n",
            "Epoch 26/100\n",
            "375/375 [==============================] - 1s 3ms/step - loss: 0.2269 - accuracy: 0.9373 - val_loss: 0.2215 - val_accuracy: 0.9392\n",
            "Epoch 27/100\n",
            "375/375 [==============================] - 1s 3ms/step - loss: 0.2234 - accuracy: 0.9379 - val_loss: 0.2182 - val_accuracy: 0.9410\n",
            "Epoch 28/100\n",
            "375/375 [==============================] - 1s 3ms/step - loss: 0.2201 - accuracy: 0.9388 - val_loss: 0.2156 - val_accuracy: 0.9413\n",
            "Epoch 29/100\n",
            "375/375 [==============================] - 1s 3ms/step - loss: 0.2168 - accuracy: 0.9397 - val_loss: 0.2134 - val_accuracy: 0.9418\n",
            "Epoch 30/100\n",
            "375/375 [==============================] - 1s 3ms/step - loss: 0.2137 - accuracy: 0.9405 - val_loss: 0.2111 - val_accuracy: 0.9411\n",
            "Epoch 31/100\n",
            "375/375 [==============================] - 1s 3ms/step - loss: 0.2107 - accuracy: 0.9413 - val_loss: 0.2079 - val_accuracy: 0.9428\n",
            "Epoch 32/100\n",
            "375/375 [==============================] - 1s 3ms/step - loss: 0.2077 - accuracy: 0.9419 - val_loss: 0.2060 - val_accuracy: 0.9447\n",
            "Epoch 33/100\n",
            "375/375 [==============================] - 1s 3ms/step - loss: 0.2048 - accuracy: 0.9428 - val_loss: 0.2034 - val_accuracy: 0.9445\n",
            "Epoch 34/100\n",
            "375/375 [==============================] - 1s 3ms/step - loss: 0.2020 - accuracy: 0.9435 - val_loss: 0.2016 - val_accuracy: 0.9448\n",
            "Epoch 35/100\n",
            "375/375 [==============================] - 1s 3ms/step - loss: 0.1994 - accuracy: 0.9443 - val_loss: 0.1983 - val_accuracy: 0.9457\n",
            "Epoch 36/100\n",
            "375/375 [==============================] - 1s 3ms/step - loss: 0.1966 - accuracy: 0.9449 - val_loss: 0.1969 - val_accuracy: 0.9468\n",
            "Epoch 37/100\n",
            "375/375 [==============================] - 1s 3ms/step - loss: 0.1941 - accuracy: 0.9457 - val_loss: 0.1947 - val_accuracy: 0.9474\n",
            "Epoch 38/100\n",
            "375/375 [==============================] - 1s 3ms/step - loss: 0.1916 - accuracy: 0.9467 - val_loss: 0.1927 - val_accuracy: 0.9481\n",
            "Epoch 39/100\n",
            "375/375 [==============================] - 1s 3ms/step - loss: 0.1892 - accuracy: 0.9473 - val_loss: 0.1907 - val_accuracy: 0.9481\n",
            "Epoch 40/100\n",
            "375/375 [==============================] - 1s 3ms/step - loss: 0.1868 - accuracy: 0.9477 - val_loss: 0.1890 - val_accuracy: 0.9492\n",
            "Epoch 41/100\n",
            "375/375 [==============================] - 1s 3ms/step - loss: 0.1844 - accuracy: 0.9483 - val_loss: 0.1876 - val_accuracy: 0.9497\n",
            "Epoch 42/100\n",
            "375/375 [==============================] - 1s 3ms/step - loss: 0.1821 - accuracy: 0.9490 - val_loss: 0.1850 - val_accuracy: 0.9502\n",
            "Epoch 43/100\n",
            "375/375 [==============================] - 1s 3ms/step - loss: 0.1800 - accuracy: 0.9497 - val_loss: 0.1834 - val_accuracy: 0.9507\n",
            "Epoch 44/100\n",
            "375/375 [==============================] - 1s 2ms/step - loss: 0.1777 - accuracy: 0.9505 - val_loss: 0.1821 - val_accuracy: 0.9503\n",
            "Epoch 45/100\n",
            "375/375 [==============================] - 1s 3ms/step - loss: 0.1756 - accuracy: 0.9507 - val_loss: 0.1797 - val_accuracy: 0.9520\n",
            "Epoch 46/100\n",
            "375/375 [==============================] - 1s 3ms/step - loss: 0.1736 - accuracy: 0.9515 - val_loss: 0.1783 - val_accuracy: 0.9518\n",
            "Epoch 47/100\n",
            "375/375 [==============================] - 1s 3ms/step - loss: 0.1716 - accuracy: 0.9520 - val_loss: 0.1767 - val_accuracy: 0.9524\n",
            "Epoch 48/100\n",
            "375/375 [==============================] - 1s 3ms/step - loss: 0.1696 - accuracy: 0.9523 - val_loss: 0.1752 - val_accuracy: 0.9531\n",
            "Epoch 49/100\n",
            "375/375 [==============================] - 1s 3ms/step - loss: 0.1676 - accuracy: 0.9531 - val_loss: 0.1735 - val_accuracy: 0.9536\n",
            "Epoch 50/100\n",
            "375/375 [==============================] - 1s 3ms/step - loss: 0.1657 - accuracy: 0.9536 - val_loss: 0.1722 - val_accuracy: 0.9539\n",
            "Epoch 51/100\n",
            "375/375 [==============================] - 1s 3ms/step - loss: 0.1638 - accuracy: 0.9540 - val_loss: 0.1705 - val_accuracy: 0.9548\n",
            "Epoch 52/100\n",
            "375/375 [==============================] - 1s 3ms/step - loss: 0.1621 - accuracy: 0.9544 - val_loss: 0.1693 - val_accuracy: 0.9547\n",
            "Epoch 53/100\n",
            "375/375 [==============================] - 1s 3ms/step - loss: 0.1603 - accuracy: 0.9551 - val_loss: 0.1678 - val_accuracy: 0.9551\n",
            "Epoch 54/100\n",
            "375/375 [==============================] - 1s 3ms/step - loss: 0.1585 - accuracy: 0.9554 - val_loss: 0.1664 - val_accuracy: 0.9553\n",
            "Epoch 55/100\n",
            "375/375 [==============================] - 1s 3ms/step - loss: 0.1568 - accuracy: 0.9559 - val_loss: 0.1651 - val_accuracy: 0.9557\n",
            "Epoch 56/100\n",
            "375/375 [==============================] - 1s 3ms/step - loss: 0.1552 - accuracy: 0.9568 - val_loss: 0.1637 - val_accuracy: 0.9570\n",
            "Epoch 57/100\n",
            "375/375 [==============================] - 1s 3ms/step - loss: 0.1534 - accuracy: 0.9571 - val_loss: 0.1624 - val_accuracy: 0.9574\n",
            "Epoch 58/100\n",
            "375/375 [==============================] - 1s 3ms/step - loss: 0.1519 - accuracy: 0.9574 - val_loss: 0.1614 - val_accuracy: 0.9571\n",
            "Epoch 59/100\n",
            "375/375 [==============================] - 1s 3ms/step - loss: 0.1503 - accuracy: 0.9581 - val_loss: 0.1601 - val_accuracy: 0.9574\n",
            "Epoch 60/100\n",
            "375/375 [==============================] - 1s 3ms/step - loss: 0.1488 - accuracy: 0.9583 - val_loss: 0.1590 - val_accuracy: 0.9578\n",
            "Epoch 61/100\n",
            "375/375 [==============================] - 1s 3ms/step - loss: 0.1473 - accuracy: 0.9591 - val_loss: 0.1578 - val_accuracy: 0.9576\n",
            "Epoch 62/100\n",
            "375/375 [==============================] - 1s 3ms/step - loss: 0.1458 - accuracy: 0.9592 - val_loss: 0.1569 - val_accuracy: 0.9578\n",
            "Epoch 63/100\n",
            "375/375 [==============================] - 1s 3ms/step - loss: 0.1443 - accuracy: 0.9599 - val_loss: 0.1558 - val_accuracy: 0.9593\n",
            "Epoch 64/100\n",
            "375/375 [==============================] - 1s 3ms/step - loss: 0.1429 - accuracy: 0.9601 - val_loss: 0.1545 - val_accuracy: 0.9593\n",
            "Epoch 65/100\n",
            "375/375 [==============================] - 1s 2ms/step - loss: 0.1415 - accuracy: 0.9607 - val_loss: 0.1535 - val_accuracy: 0.9597\n",
            "Epoch 66/100\n",
            "375/375 [==============================] - 1s 3ms/step - loss: 0.1401 - accuracy: 0.9610 - val_loss: 0.1528 - val_accuracy: 0.9601\n",
            "Epoch 67/100\n",
            "375/375 [==============================] - 1s 3ms/step - loss: 0.1387 - accuracy: 0.9612 - val_loss: 0.1511 - val_accuracy: 0.9599\n",
            "Epoch 68/100\n",
            "375/375 [==============================] - 1s 3ms/step - loss: 0.1374 - accuracy: 0.9615 - val_loss: 0.1504 - val_accuracy: 0.9603\n",
            "Epoch 69/100\n",
            "375/375 [==============================] - 1s 3ms/step - loss: 0.1361 - accuracy: 0.9624 - val_loss: 0.1496 - val_accuracy: 0.9607\n",
            "Epoch 70/100\n",
            "375/375 [==============================] - 1s 3ms/step - loss: 0.1350 - accuracy: 0.9627 - val_loss: 0.1484 - val_accuracy: 0.9606\n",
            "Epoch 71/100\n",
            "375/375 [==============================] - 1s 3ms/step - loss: 0.1336 - accuracy: 0.9633 - val_loss: 0.1485 - val_accuracy: 0.9601\n",
            "Epoch 72/100\n",
            "375/375 [==============================] - 1s 3ms/step - loss: 0.1324 - accuracy: 0.9635 - val_loss: 0.1465 - val_accuracy: 0.9603\n",
            "Epoch 73/100\n",
            "375/375 [==============================] - 1s 3ms/step - loss: 0.1311 - accuracy: 0.9637 - val_loss: 0.1461 - val_accuracy: 0.9604\n",
            "Epoch 74/100\n",
            "375/375 [==============================] - 1s 3ms/step - loss: 0.1300 - accuracy: 0.9640 - val_loss: 0.1452 - val_accuracy: 0.9614\n",
            "Epoch 75/100\n",
            "375/375 [==============================] - 1s 3ms/step - loss: 0.1288 - accuracy: 0.9646 - val_loss: 0.1441 - val_accuracy: 0.9614\n",
            "Epoch 76/100\n",
            "375/375 [==============================] - 1s 3ms/step - loss: 0.1276 - accuracy: 0.9646 - val_loss: 0.1431 - val_accuracy: 0.9616\n",
            "Epoch 77/100\n",
            "375/375 [==============================] - 1s 3ms/step - loss: 0.1265 - accuracy: 0.9652 - val_loss: 0.1421 - val_accuracy: 0.9622\n",
            "Epoch 78/100\n",
            "375/375 [==============================] - 1s 3ms/step - loss: 0.1254 - accuracy: 0.9653 - val_loss: 0.1416 - val_accuracy: 0.9622\n",
            "Epoch 79/100\n",
            "375/375 [==============================] - 1s 3ms/step - loss: 0.1242 - accuracy: 0.9657 - val_loss: 0.1408 - val_accuracy: 0.9621\n",
            "Epoch 80/100\n",
            "375/375 [==============================] - 1s 3ms/step - loss: 0.1233 - accuracy: 0.9663 - val_loss: 0.1403 - val_accuracy: 0.9622\n",
            "Epoch 81/100\n",
            "375/375 [==============================] - 1s 3ms/step - loss: 0.1222 - accuracy: 0.9667 - val_loss: 0.1392 - val_accuracy: 0.9628\n",
            "Epoch 82/100\n",
            "375/375 [==============================] - 1s 3ms/step - loss: 0.1211 - accuracy: 0.9668 - val_loss: 0.1385 - val_accuracy: 0.9632\n",
            "Epoch 83/100\n",
            "375/375 [==============================] - 1s 3ms/step - loss: 0.1200 - accuracy: 0.9672 - val_loss: 0.1379 - val_accuracy: 0.9631\n",
            "Epoch 84/100\n",
            "375/375 [==============================] - 1s 3ms/step - loss: 0.1191 - accuracy: 0.9677 - val_loss: 0.1371 - val_accuracy: 0.9631\n",
            "Epoch 85/100\n",
            "375/375 [==============================] - 1s 3ms/step - loss: 0.1181 - accuracy: 0.9680 - val_loss: 0.1365 - val_accuracy: 0.9633\n",
            "Epoch 86/100\n",
            "375/375 [==============================] - 1s 3ms/step - loss: 0.1170 - accuracy: 0.9682 - val_loss: 0.1356 - val_accuracy: 0.9630\n",
            "Epoch 87/100\n",
            "375/375 [==============================] - 1s 3ms/step - loss: 0.1161 - accuracy: 0.9684 - val_loss: 0.1350 - val_accuracy: 0.9634\n",
            "Epoch 88/100\n",
            "375/375 [==============================] - 1s 3ms/step - loss: 0.1151 - accuracy: 0.9688 - val_loss: 0.1345 - val_accuracy: 0.9631\n",
            "Epoch 89/100\n",
            "375/375 [==============================] - 1s 3ms/step - loss: 0.1141 - accuracy: 0.9688 - val_loss: 0.1338 - val_accuracy: 0.9630\n",
            "Epoch 90/100\n",
            "375/375 [==============================] - 1s 3ms/step - loss: 0.1133 - accuracy: 0.9693 - val_loss: 0.1332 - val_accuracy: 0.9632\n",
            "Epoch 91/100\n",
            "375/375 [==============================] - 1s 3ms/step - loss: 0.1123 - accuracy: 0.9691 - val_loss: 0.1321 - val_accuracy: 0.9635\n",
            "Epoch 92/100\n",
            "375/375 [==============================] - 1s 3ms/step - loss: 0.1115 - accuracy: 0.9698 - val_loss: 0.1318 - val_accuracy: 0.9636\n",
            "Epoch 93/100\n",
            "375/375 [==============================] - 1s 3ms/step - loss: 0.1106 - accuracy: 0.9700 - val_loss: 0.1311 - val_accuracy: 0.9636\n",
            "Epoch 94/100\n",
            "375/375 [==============================] - 1s 3ms/step - loss: 0.1097 - accuracy: 0.9701 - val_loss: 0.1305 - val_accuracy: 0.9642\n",
            "Epoch 95/100\n",
            "375/375 [==============================] - 1s 3ms/step - loss: 0.1088 - accuracy: 0.9704 - val_loss: 0.1301 - val_accuracy: 0.9642\n",
            "Epoch 96/100\n",
            "375/375 [==============================] - 1s 3ms/step - loss: 0.1080 - accuracy: 0.9706 - val_loss: 0.1292 - val_accuracy: 0.9646\n",
            "Epoch 97/100\n",
            "375/375 [==============================] - 1s 3ms/step - loss: 0.1071 - accuracy: 0.9711 - val_loss: 0.1289 - val_accuracy: 0.9645\n",
            "Epoch 98/100\n",
            "375/375 [==============================] - 1s 3ms/step - loss: 0.1063 - accuracy: 0.9713 - val_loss: 0.1279 - val_accuracy: 0.9646\n",
            "Epoch 99/100\n",
            "375/375 [==============================] - 1s 3ms/step - loss: 0.1055 - accuracy: 0.9715 - val_loss: 0.1275 - val_accuracy: 0.9649\n",
            "Epoch 100/100\n",
            "375/375 [==============================] - 1s 3ms/step - loss: 0.1047 - accuracy: 0.9715 - val_loss: 0.1271 - val_accuracy: 0.9656\n"
          ],
          "name": "stdout"
        },
        {
          "output_type": "execute_result",
          "data": {
            "text/plain": [
              "<tensorflow.python.keras.callbacks.History at 0x7f20a5647780>"
            ]
          },
          "metadata": {
            "tags": []
          },
          "execution_count": 132
        }
      ]
    },
    {
      "cell_type": "code",
      "metadata": {
        "id": "786kB_oGw239",
        "colab": {
          "base_uri": "https://localhost:8080/"
        },
        "outputId": "0e970a98-2b66-46c6-ff32-9d185f42be9f"
      },
      "source": [
        "test_loss, test_acc=model.evaluate(X_test,y_test)\n",
        "print('정확도', test_acc)"
      ],
      "execution_count": null,
      "outputs": [
        {
          "output_type": "stream",
          "text": [
            "313/313 [==============================] - 0s 887us/step - loss: 0.1199 - accuracy: 0.9653\n",
            "정확도 0.9653000235557556\n"
          ],
          "name": "stdout"
        }
      ]
    },
    {
      "cell_type": "code",
      "metadata": {
        "id": "--RgG5Mm4lZb"
      },
      "source": [
        "from sklearn.preprocessing import StandardScaler\n",
        "import numpy as np\n",
        "import pandas as pd\n",
        "from sklearn import metrics\n",
        "from sklearn.model_selection import train_test_split\n",
        "from sklearn import svm\n",
        "from sklearn.model_selection import GridSearchCV\n"
      ],
      "execution_count": null,
      "outputs": []
    },
    {
      "cell_type": "code",
      "metadata": {
        "id": "Tj_vcnnnxaBl"
      },
      "source": [
        "test = pd.read_csv('/content/sample_data/mnist_test.csv')\n",
        "train = pd.read_csv('/content/sample_data/mnist_train_small.csv')"
      ],
      "execution_count": null,
      "outputs": []
    },
    {
      "cell_type": "code",
      "metadata": {
        "colab": {
          "base_uri": "https://localhost:8080/"
        },
        "id": "vhi97pZtRoh6",
        "outputId": "234f5981-7e3b-415c-c8de-9f35f79d4044"
      },
      "source": [
        "test.shape"
      ],
      "execution_count": null,
      "outputs": [
        {
          "output_type": "execute_result",
          "data": {
            "text/plain": [
              "(9999, 785)"
            ]
          },
          "metadata": {
            "tags": []
          },
          "execution_count": 136
        }
      ]
    },
    {
      "cell_type": "code",
      "metadata": {
        "colab": {
          "base_uri": "https://localhost:8080/"
        },
        "id": "_3gZ8zKKRuDQ",
        "outputId": "3da5f0b8-729c-4001-d2ea-980c1539ea9d"
      },
      "source": [
        "train.shape"
      ],
      "execution_count": null,
      "outputs": [
        {
          "output_type": "execute_result",
          "data": {
            "text/plain": [
              "(19999, 785)"
            ]
          },
          "metadata": {
            "tags": []
          },
          "execution_count": 137
        }
      ]
    },
    {
      "cell_type": "code",
      "metadata": {
        "id": "LaawCrtzRiZy"
      },
      "source": [
        "label = train.iloc[:,0]\n",
        "pixels = train.iloc[:,1:785]"
      ],
      "execution_count": null,
      "outputs": []
    },
    {
      "cell_type": "code",
      "metadata": {
        "id": "VCW8nV_wSABi"
      },
      "source": [
        "test, train, y_test, y = train_test_split(pixels, label, train_size = 0.8, random_state = 2);"
      ],
      "execution_count": null,
      "outputs": []
    },
    {
      "cell_type": "code",
      "metadata": {
        "colab": {
          "base_uri": "https://localhost:8080/"
        },
        "id": "ir4K1jFuR84Y",
        "outputId": "48057db2-6aaf-4372-eeb7-16850937313c"
      },
      "source": [
        "classifier = svm.SVC()\n",
        "classifier.fit(train, y.values.ravel())"
      ],
      "execution_count": null,
      "outputs": [
        {
          "output_type": "execute_result",
          "data": {
            "text/plain": [
              "SVC(C=1.0, break_ties=False, cache_size=200, class_weight=None, coef0=0.0,\n",
              "    decision_function_shape='ovr', degree=3, gamma='scale', kernel='rbf',\n",
              "    max_iter=-1, probability=False, random_state=None, shrinking=True,\n",
              "    tol=0.001, verbose=False)"
            ]
          },
          "metadata": {
            "tags": []
          },
          "execution_count": 140
        }
      ]
    },
    {
      "cell_type": "code",
      "metadata": {
        "colab": {
          "base_uri": "https://localhost:8080/"
        },
        "id": "vOgpUJIfT51D",
        "outputId": "91aeed0a-9e56-4a6d-cefc-dd4adea3e18d"
      },
      "source": [
        "train.shape"
      ],
      "execution_count": null,
      "outputs": [
        {
          "output_type": "execute_result",
          "data": {
            "text/plain": [
              "(4000, 784)"
            ]
          },
          "metadata": {
            "tags": []
          },
          "execution_count": 141
        }
      ]
    },
    {
      "cell_type": "code",
      "metadata": {
        "colab": {
          "base_uri": "https://localhost:8080/"
        },
        "id": "5cSnt2ijTvFg",
        "outputId": "8b1efe55-aaab-4064-e637-d79ace596b7e"
      },
      "source": [
        "test.shape"
      ],
      "execution_count": null,
      "outputs": [
        {
          "output_type": "execute_result",
          "data": {
            "text/plain": [
              "(15999, 784)"
            ]
          },
          "metadata": {
            "tags": []
          },
          "execution_count": 142
        }
      ]
    },
    {
      "cell_type": "code",
      "metadata": {
        "colab": {
          "base_uri": "https://localhost:8080/"
        },
        "id": "U8jGxN0qVQPB",
        "outputId": "816aad4a-af05-4655-fda2-bfc10d1e792f"
      },
      "source": [
        "y"
      ],
      "execution_count": null,
      "outputs": [
        {
          "output_type": "execute_result",
          "data": {
            "text/plain": [
              "836      8\n",
              "1849     6\n",
              "7278     9\n",
              "527      5\n",
              "10432    3\n",
              "        ..\n",
              "7309     2\n",
              "12681    6\n",
              "18928    1\n",
              "19904    7\n",
              "936      2\n",
              "Name: 6, Length: 4000, dtype: int64"
            ]
          },
          "metadata": {
            "tags": []
          },
          "execution_count": 143
        }
      ]
    },
    {
      "cell_type": "code",
      "metadata": {
        "id": "qO-NHxw829u2"
      },
      "source": [
        "x = classifier.score(train, y)"
      ],
      "execution_count": null,
      "outputs": []
    },
    {
      "cell_type": "code",
      "metadata": {
        "colab": {
          "base_uri": "https://localhost:8080/"
        },
        "id": "lyMpNHEDVJIc",
        "outputId": "5b251476-e79e-4e5d-8eae-19d6348b089d"
      },
      "source": [
        "print ('정확도', x)"
      ],
      "execution_count": null,
      "outputs": [
        {
          "output_type": "stream",
          "text": [
            "정확도 0.98475\n"
          ],
          "name": "stdout"
        }
      ]
    },
    {
      "cell_type": "markdown",
      "metadata": {
        "id": "Za23uZUeWup3"
      },
      "source": [
        "3. **Decision tree or Random forest**"
      ]
    },
    {
      "cell_type": "code",
      "metadata": {
        "id": "POr0NDeazfkT"
      },
      "source": [
        "import seaborn as sns\n",
        "from sklearn.ensemble import RandomForestClassifier  \n",
        "from sklearn.model_selection import train_test_split\n",
        "from sklearn.metrics import classification_report, confusion_matrix\n",
        "from sklearn.model_selection import RandomizedSearchCV, GridSearchCV \n",
        "from sklearn.model_selection import cross_val_score\n",
        "\n",
        "%matplotlib inline "
      ],
      "execution_count": null,
      "outputs": []
    },
    {
      "cell_type": "code",
      "metadata": {
        "id": "f1fGXxOm1YVr"
      },
      "source": [
        "test = pd.read_csv('/content/sample_data/mnist_test.csv')\n",
        "train = pd.read_csv('/content/sample_data/mnist_train_small.csv')"
      ],
      "execution_count": null,
      "outputs": []
    },
    {
      "cell_type": "code",
      "metadata": {
        "id": "vhQOWltS2BNo"
      },
      "source": [
        "df_x=train.iloc[:,1:]\n",
        "df_y=train.iloc[:,0]"
      ],
      "execution_count": null,
      "outputs": []
    },
    {
      "cell_type": "code",
      "metadata": {
        "id": "4mZk9Yuy2BwW"
      },
      "source": [
        "def print_image(row, df):\n",
        "    temp=df.iloc[row,:].values\n",
        "    temp = temp.reshape(28,28).astype('uint8')\n",
        "    plt.imshow(temp)"
      ],
      "execution_count": null,
      "outputs": []
    },
    {
      "cell_type": "code",
      "metadata": {
        "colab": {
          "base_uri": "https://localhost:8080/"
        },
        "id": "3Ufww4jJ2Fvf",
        "outputId": "b288da44-c00e-40d8-9f55-162982bb4e31"
      },
      "source": [
        "df_y.value_counts().sort_index()"
      ],
      "execution_count": null,
      "outputs": [
        {
          "output_type": "execute_result",
          "data": {
            "text/plain": [
              "0    1962\n",
              "1    2243\n",
              "2    1989\n",
              "3    2021\n",
              "4    1924\n",
              "5    1761\n",
              "6    2038\n",
              "7    2126\n",
              "8    1912\n",
              "9    2023\n",
              "Name: 6, dtype: int64"
            ]
          },
          "metadata": {
            "tags": []
          },
          "execution_count": 152
        }
      ]
    },
    {
      "cell_type": "code",
      "metadata": {
        "id": "G11tvFHKXlvC"
      },
      "source": [
        "X_train, X_test, y_train, y_test = train_test_split(df_x, df_y, test_size=0.2, random_state=0)"
      ],
      "execution_count": null,
      "outputs": []
    },
    {
      "cell_type": "code",
      "metadata": {
        "colab": {
          "base_uri": "https://localhost:8080/"
        },
        "id": "CrQEyY-02Uuf",
        "outputId": "38628463-73a9-4b72-9055-c0d534ff1dfa"
      },
      "source": [
        "rf=RandomForestClassifier(n_estimators=100)\n",
        "rf.fit(X_train,y_train)"
      ],
      "execution_count": null,
      "outputs": [
        {
          "output_type": "execute_result",
          "data": {
            "text/plain": [
              "RandomForestClassifier(bootstrap=True, ccp_alpha=0.0, class_weight=None,\n",
              "                       criterion='gini', max_depth=None, max_features='auto',\n",
              "                       max_leaf_nodes=None, max_samples=None,\n",
              "                       min_impurity_decrease=0.0, min_impurity_split=None,\n",
              "                       min_samples_leaf=1, min_samples_split=2,\n",
              "                       min_weight_fraction_leaf=0.0, n_estimators=100,\n",
              "                       n_jobs=None, oob_score=False, random_state=None,\n",
              "                       verbose=0, warm_start=False)"
            ]
          },
          "metadata": {
            "tags": []
          },
          "execution_count": 160
        }
      ]
    },
    {
      "cell_type": "code",
      "metadata": {
        "id": "faD2D-h7XsoZ"
      },
      "source": [
        "pred=rf.predict(X_test)"
      ],
      "execution_count": null,
      "outputs": []
    },
    {
      "cell_type": "code",
      "metadata": {
        "colab": {
          "base_uri": "https://localhost:8080/"
        },
        "id": "NEhMlitkXwiP",
        "outputId": "991dd6e0-aa37-468a-968c-c57d55feb899"
      },
      "source": [
        "print(classification_report(y_test, pred))"
      ],
      "execution_count": null,
      "outputs": [
        {
          "output_type": "stream",
          "text": [
            "              precision    recall  f1-score   support\n",
            "\n",
            "           0       0.97      0.99      0.98       384\n",
            "           1       0.96      0.98      0.97       425\n",
            "           2       0.95      0.95      0.95       404\n",
            "           3       0.96      0.95      0.95       419\n",
            "           4       0.93      0.95      0.94       362\n",
            "           5       0.97      0.93      0.95       359\n",
            "           6       0.97      0.99      0.98       437\n",
            "           7       0.97      0.96      0.96       407\n",
            "           8       0.94      0.94      0.94       410\n",
            "           9       0.95      0.93      0.94       393\n",
            "\n",
            "    accuracy                           0.96      4000\n",
            "   macro avg       0.96      0.96      0.96      4000\n",
            "weighted avg       0.96      0.96      0.96      4000\n",
            "\n"
          ],
          "name": "stdout"
        }
      ]
    },
    {
      "cell_type": "code",
      "metadata": {
        "colab": {
          "base_uri": "https://localhost:8080/"
        },
        "id": "ZXMJ5QxsXydJ",
        "outputId": "d4d775d4-1f95-4eb9-c3a5-08728717e453"
      },
      "source": [
        "rf=RandomForestClassifier(n_estimators=100)\n",
        "rf.fit(df_x, df_y)\n",
        "score = cross_val_score(rf, df_x, df_y)\n",
        "print ('검증', np.mean(score))"
      ],
      "execution_count": null,
      "outputs": [
        {
          "output_type": "stream",
          "text": [
            "검증 0.9571979619904976\n"
          ],
          "name": "stdout"
        }
      ]
    }
  ]
}