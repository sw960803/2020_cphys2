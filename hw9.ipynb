{
  "nbformat": 4,
  "nbformat_minor": 0,
  "metadata": {
    "kernelspec": {
      "display_name": "Python 3",
      "language": "python",
      "name": "python3"
    },
    "language_info": {
      "codemirror_mode": {
        "name": "ipython",
        "version": 3
      },
      "file_extension": ".py",
      "mimetype": "text/x-python",
      "name": "python",
      "nbconvert_exporter": "python",
      "pygments_lexer": "ipython3",
      "version": "3.7.4"
    },
    "colab": {
      "name": "assignment9.ipynb의 사본",
      "provenance": []
    }
  },
  "cells": [
    {
      "cell_type": "markdown",
      "metadata": {
        "id": "IUfqhLZSZB2K"
      },
      "source": [
        "# Fashion MNIST \n",
        "### MNIST 패션 이미지를 CNN을 이용하여 분류하세요. CNN을 이용한 분류 결과를 MLP와 비교해보세요."
      ]
    },
    {
      "cell_type": "markdown",
      "metadata": {
        "id": "2nHVZVOoa80J"
      },
      "source": [
        "테스트결과 (정확도)\n",
        "# MLP 0.8715\n",
        "# CNN 0.9118"
      ]
    },
    {
      "cell_type": "code",
      "metadata": {
        "id": "B-2c6Bl2ZB2K"
      },
      "source": [
        "!pip install -q -U tensorflow>=2.0.0\n",
        "\n",
        "from tensorflow import keras\n",
        "from keras import models \n",
        "from keras import layers\n",
        "import numpy as np\n",
        "import matplotlib.pyplot as plt\n",
        "from keras.utils import to_categorical\n",
        "from keras.datasets import fashion_mnist"
      ],
      "execution_count": null,
      "outputs": []
    },
    {
      "cell_type": "markdown",
      "metadata": {
        "id": "5LM_nxqyZB2M"
      },
      "source": [
        "#### CNN"
      ]
    },
    {
      "cell_type": "code",
      "metadata": {
        "id": "FPaH8XROZB2M"
      },
      "source": [
        "(X_train, y_train), (X_test, y_test) = fashion_mnist.load_data()\n",
        "\n",
        "\n",
        "X_train = X_train/255\n",
        "\n",
        "X_test = X_test/255"
      ],
      "execution_count": null,
      "outputs": []
    },
    {
      "cell_type": "code",
      "metadata": {
        "id": "1nEbSdUSb6mN"
      },
      "source": [
        "fashion_mnist_labels = [\"T-shirt/top\", \n",
        "                        \"Trouser\",      \n",
        "                        \"Pullover\",      \n",
        "                        \"Dress\",         \n",
        "                        \"Coat\",         \n",
        "                        \"Sandal\",       \n",
        "                        \"Shirt\",         \n",
        "                        \"Sneaker\",       \n",
        "                        \"Bag\",           \n",
        "                        \"Ankle boot\"]   \n",
        "\n",
        "img_index = 6\n",
        "label_index = y_train[img_index]\n"
      ],
      "execution_count": null,
      "outputs": []
    },
    {
      "cell_type": "code",
      "metadata": {
        "id": "-uMnq5KzcmMg"
      },
      "source": [
        "(X_train, X_valid) = X_train[10000:], X_train[:2000] \n",
        "(y_train, y_valid) = y_train[10000:], y_train[:2000]\n",
        "\n",
        "\n",
        "X_train = X_train.reshape(X_train.shape[0], 28, 28, 1)\n",
        "X_valid = X_valid.reshape(X_valid.shape[0], 28, 28, 1)\n",
        "X_test = X_test.reshape(X_test.shape[0], 28, 28, 1)\n",
        "\n",
        "y_train =  keras.utils.to_categorical(y_train, 10)\n",
        "y_valid =  keras.utils.to_categorical(y_valid, 10)\n",
        "y_test =  keras.utils.to_categorical(y_test, 10)"
      ],
      "execution_count": null,
      "outputs": []
    },
    {
      "cell_type": "code",
      "metadata": {
        "id": "AmQCQESzcqZ7"
      },
      "source": [
        "model = keras.Sequential()\n",
        "\n",
        "model.add( keras.layers.Conv2D(filters=64, kernel_size=2, padding='same', activation='relu', input_shape=(28,28,1))) \n",
        "model.add( keras.layers.MaxPooling2D(pool_size=2))\n",
        "model.add( keras.layers.Dropout(0.3))\n",
        "\n",
        "model.add( keras.layers.Conv2D(filters=32, kernel_size=2, padding='same', activation='relu'))\n",
        "model.add( keras.layers.MaxPooling2D(pool_size=2))\n",
        "model.add( keras.layers.Dropout(0.3))\n",
        "\n",
        "model.add( keras.layers.Flatten())\n",
        "model.add( keras.layers.Dense(256, activation='relu'))\n",
        "model.add( keras.layers.Dropout(0.5))\n",
        "model.add( keras.layers.Dense(10, activation='softmax'))"
      ],
      "execution_count": null,
      "outputs": []
    },
    {
      "cell_type": "code",
      "metadata": {
        "id": "eJb1Vn4wcsmZ"
      },
      "source": [
        "model.compile(loss='categorical_crossentropy',\n",
        "             optimizer='adam',\n",
        "             metrics=['accuracy'])"
      ],
      "execution_count": null,
      "outputs": []
    },
    {
      "cell_type": "code",
      "metadata": {
        "colab": {
          "base_uri": "https://localhost:8080/"
        },
        "id": "szUUrMJxFkWP",
        "outputId": "d927560c-873f-4346-b70d-904cb6fa9714"
      },
      "source": [
        "y_valid.shape\n",
        "print(X_train.shape, 'train set')\n",
        "print(X_valid.shape, 'validation set')\n",
        "print(X_test.shape, 'test set')"
      ],
      "execution_count": null,
      "outputs": [
        {
          "output_type": "stream",
          "text": [
            "(50000, 28, 28, 1) train set\n",
            "(2000, 28, 28, 1) validation set\n",
            "(10000, 28, 28, 1) test set\n"
          ],
          "name": "stdout"
        }
      ]
    },
    {
      "cell_type": "code",
      "metadata": {
        "colab": {
          "base_uri": "https://localhost:8080/"
        },
        "id": "d2x_2mvYcvKd",
        "outputId": "f6855813-d8b1-471d-96a3-bf0b7d038b61"
      },
      "source": [
        "from keras.callbacks import ModelCheckpoint\n",
        "\n",
        "checkpointer = ModelCheckpoint(filepath='model.weights.best.hdf5', verbose = 1, save_best_only=True)\n",
        "model.fit(X_train,\n",
        "         y_train,\n",
        "         batch_size=64,\n",
        "         epochs=10,\n",
        "         validation_data=(X_valid, y_valid),\n",
        "         callbacks=[checkpointer])"
      ],
      "execution_count": null,
      "outputs": [
        {
          "output_type": "stream",
          "text": [
            "Epoch 1/10\n",
            "781/782 [============================>.] - ETA: 0s - loss: 0.6153 - accuracy: 0.7721\n",
            "Epoch 00001: val_loss improved from inf to 0.38924, saving model to model.weights.best.hdf5\n",
            "782/782 [==============================] - 60s 77ms/step - loss: 0.6153 - accuracy: 0.7721 - val_loss: 0.3892 - val_accuracy: 0.8610\n",
            "Epoch 2/10\n",
            "781/782 [============================>.] - ETA: 0s - loss: 0.4170 - accuracy: 0.8488\n",
            "Epoch 00002: val_loss improved from 0.38924 to 0.35469, saving model to model.weights.best.hdf5\n",
            "782/782 [==============================] - 59s 76ms/step - loss: 0.4170 - accuracy: 0.8488 - val_loss: 0.3547 - val_accuracy: 0.8620\n",
            "Epoch 3/10\n",
            "781/782 [============================>.] - ETA: 0s - loss: 0.3733 - accuracy: 0.8639\n",
            "Epoch 00003: val_loss improved from 0.35469 to 0.30459, saving model to model.weights.best.hdf5\n",
            "782/782 [==============================] - 60s 76ms/step - loss: 0.3733 - accuracy: 0.8638 - val_loss: 0.3046 - val_accuracy: 0.8905\n",
            "Epoch 4/10\n",
            "781/782 [============================>.] - ETA: 0s - loss: 0.3477 - accuracy: 0.8739\n",
            "Epoch 00004: val_loss improved from 0.30459 to 0.27948, saving model to model.weights.best.hdf5\n",
            "782/782 [==============================] - 60s 76ms/step - loss: 0.3477 - accuracy: 0.8739 - val_loss: 0.2795 - val_accuracy: 0.8970\n",
            "Epoch 5/10\n",
            "781/782 [============================>.] - ETA: 0s - loss: 0.3298 - accuracy: 0.8803\n",
            "Epoch 00005: val_loss improved from 0.27948 to 0.25981, saving model to model.weights.best.hdf5\n",
            "782/782 [==============================] - 60s 77ms/step - loss: 0.3298 - accuracy: 0.8804 - val_loss: 0.2598 - val_accuracy: 0.9075\n",
            "Epoch 6/10\n",
            "781/782 [============================>.] - ETA: 0s - loss: 0.3152 - accuracy: 0.8844\n",
            "Epoch 00006: val_loss improved from 0.25981 to 0.25635, saving model to model.weights.best.hdf5\n",
            "782/782 [==============================] - 60s 77ms/step - loss: 0.3153 - accuracy: 0.8844 - val_loss: 0.2564 - val_accuracy: 0.9020\n",
            "Epoch 7/10\n",
            "781/782 [============================>.] - ETA: 0s - loss: 0.2997 - accuracy: 0.8886\n",
            "Epoch 00007: val_loss improved from 0.25635 to 0.23759, saving model to model.weights.best.hdf5\n",
            "782/782 [==============================] - 60s 76ms/step - loss: 0.2998 - accuracy: 0.8886 - val_loss: 0.2376 - val_accuracy: 0.9090\n",
            "Epoch 8/10\n",
            "781/782 [============================>.] - ETA: 0s - loss: 0.2899 - accuracy: 0.8928\n",
            "Epoch 00008: val_loss improved from 0.23759 to 0.23592, saving model to model.weights.best.hdf5\n",
            "782/782 [==============================] - 60s 76ms/step - loss: 0.2899 - accuracy: 0.8928 - val_loss: 0.2359 - val_accuracy: 0.9080\n",
            "Epoch 9/10\n",
            "781/782 [============================>.] - ETA: 0s - loss: 0.2794 - accuracy: 0.8952\n",
            "Epoch 00009: val_loss improved from 0.23592 to 0.22969, saving model to model.weights.best.hdf5\n",
            "782/782 [==============================] - 60s 76ms/step - loss: 0.2794 - accuracy: 0.8952 - val_loss: 0.2297 - val_accuracy: 0.9145\n",
            "Epoch 10/10\n",
            "781/782 [============================>.] - ETA: 0s - loss: 0.2742 - accuracy: 0.8985\n",
            "Epoch 00010: val_loss improved from 0.22969 to 0.22118, saving model to model.weights.best.hdf5\n",
            "782/782 [==============================] - 60s 76ms/step - loss: 0.2742 - accuracy: 0.8985 - val_loss: 0.2212 - val_accuracy: 0.9150\n"
          ],
          "name": "stdout"
        },
        {
          "output_type": "execute_result",
          "data": {
            "text/plain": [
              "<tensorflow.python.keras.callbacks.History at 0x7f2b234187b8>"
            ]
          },
          "metadata": {
            "tags": []
          },
          "execution_count": 49
        }
      ]
    },
    {
      "cell_type": "code",
      "metadata": {
        "colab": {
          "base_uri": "https://localhost:8080/"
        },
        "id": "4F-6J8zLK9Xk",
        "outputId": "91eab194-e225-4a6d-95e7-770a44b08e8a"
      },
      "source": [
        "score = model.evaluate(X_test, y_test, verbose=0)\n",
        "\n",
        "score[1]"
      ],
      "execution_count": null,
      "outputs": [
        {
          "output_type": "execute_result",
          "data": {
            "text/plain": [
              "0.9118000268936157"
            ]
          },
          "metadata": {
            "tags": []
          },
          "execution_count": 50
        }
      ]
    }
  ]
}