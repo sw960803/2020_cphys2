{
  "nbformat": 4,
  "nbformat_minor": 0,
  "metadata": {
    "kernelspec": {
      "display_name": "Python 3",
      "language": "python",
      "name": "python3"
    },
    "language_info": {
      "codemirror_mode": {
        "name": "ipython",
        "version": 3
      },
      "file_extension": ".py",
      "mimetype": "text/x-python",
      "name": "python",
      "nbconvert_exporter": "python",
      "pygments_lexer": "ipython3",
      "version": "3.7.4"
    },
    "colab": {
      "name": "hw8.ipynb",
      "provenance": []
    }
  },
  "cells": [
    {
      "cell_type": "markdown",
      "metadata": {
        "id": "Tt4JLT3T2D-C"
      },
      "source": [
        "## 1. MNIST Digits\n",
        "#### MNIST 손글씨 이미지를 딥러닝을 이용하여 분류하시오."
      ]
    },
    {
      "cell_type": "code",
      "metadata": {
        "id": "-TQmrpQ72D-E"
      },
      "source": [
        "import tensorflow as tf\n",
        "import pandas as pd\n",
        "import numpy as np\n",
        "import matplotlib.pyplot as plt\n",
        "from keras.datasets import mnist\n",
        "from tensorflow import keras\n",
        "from keras import models \n",
        "from keras import layers\n",
        "from tensorflow.keras.utils import to_categorical  \n",
        "from tensorflow.keras.models import Sequential \n",
        "from tensorflow.keras.models import load_model \n",
        "from keras.utils import to_categorical\n",
        "\n",
        "\n",
        "\n",
        "(X, y), (X_test, y_test) = mnist.load_data()"
      ],
      "execution_count": null,
      "outputs": []
    },
    {
      "cell_type": "markdown",
      "metadata": {
        "id": "UhsZMy2r4mgP"
      },
      "source": [
        "**데이터 불러오기 확인**"
      ]
    },
    {
      "cell_type": "code",
      "metadata": {
        "id": "-NP-gdKf2D-I",
        "outputId": "34ca7ddd-7345-421e-abbd-4d48bb160dda",
        "colab": {
          "base_uri": "https://localhost:8080/",
          "height": 265
        }
      },
      "source": [
        "plt.imshow(X[7])\n",
        "plt.show()"
      ],
      "execution_count": null,
      "outputs": [
        {
          "output_type": "display_data",
          "data": {
            "image/png": "[encoded data removed]",
            "text/plain": [
              "<Figure size 432x288 with 1 Axes>"
            ]
          },
          "metadata": {
            "tags": [],
            "needs_background": "light"
          }
        }
      ]
    },
    {
      "cell_type": "markdown",
      "metadata": {
        "id": "OiER9oNr4rc6"
      },
      "source": [
        "**데이터 전처리 및 구성**"
      ]
    },
    {
      "cell_type": "code",
      "metadata": {
        "id": "_1e1MIoQ2ZdY"
      },
      "source": [
        "X  = X  / 255.0\n",
        "X_test = X_test / 255"
      ],
      "execution_count": null,
      "outputs": []
    },
    {
      "cell_type": "code",
      "metadata": {
        "id": "UKbsvYkr2Ii_"
      },
      "source": [
        "model = tf.keras.models.Sequential([\n",
        "    tf.keras.layers.Flatten(input_shape=(28, 28)),\n",
        "    tf.keras.layers.Dense(512, activation=tf.nn.relu),\n",
        "    tf.keras.layers.Dense(10, activation=tf.nn.softmax)\n",
        "])"
      ],
      "execution_count": null,
      "outputs": []
    },
    {
      "cell_type": "markdown",
      "metadata": {
        "id": "89RpF2BH4cNR"
      },
      "source": [
        "**컴파일**"
      ]
    },
    {
      "cell_type": "code",
      "metadata": {
        "id": "l--ocr1x4bk9"
      },
      "source": [
        "model.compile(optimizer='adam',\n",
        "              loss='sparse_categorical_crossentropy',\n",
        "              metrics=['accuracy'])"
      ],
      "execution_count": null,
      "outputs": []
    },
    {
      "cell_type": "code",
      "metadata": {
        "id": "MonZZCBg6DJt",
        "outputId": "8b54100a-97f4-4941-91df-f80c9a7fed5a",
        "colab": {
          "base_uri": "https://localhost:8080/"
        }
      },
      "source": [
        "model.fit(X, y, epochs=5)"
      ],
      "execution_count": null,
      "outputs": [
        {
          "output_type": "stream",
          "text": [
            "Epoch 1/5\n",
            "1875/1875 [==============================] - 8s 4ms/step - loss: 0.1988 - accuracy: 0.9420\n",
            "Epoch 2/5\n",
            "1875/1875 [==============================] - 8s 4ms/step - loss: 0.0788 - accuracy: 0.9758\n",
            "Epoch 3/5\n",
            "1875/1875 [==============================] - 8s 4ms/step - loss: 0.0524 - accuracy: 0.9834\n",
            "Epoch 4/5\n",
            "1875/1875 [==============================] - 7s 4ms/step - loss: 0.0379 - accuracy: 0.9879\n",
            "Epoch 5/5\n",
            "1875/1875 [==============================] - 7s 4ms/step - loss: 0.0275 - accuracy: 0.9915\n"
          ],
          "name": "stdout"
        },
        {
          "output_type": "execute_result",
          "data": {
            "text/plain": [
              "<tensorflow.python.keras.callbacks.History at 0x7f6078dae668>"
            ]
          },
          "metadata": {
            "tags": []
          },
          "execution_count": 337
        }
      ]
    },
    {
      "cell_type": "code",
      "metadata": {
        "id": "2MDlsYAq6NBQ",
        "outputId": "4fbb9972-c313-44ca-b96b-6c5e4250c16e",
        "colab": {
          "base_uri": "https://localhost:8080/"
        }
      },
      "source": [
        "test_loss, test_acc = model.evaluate(X_test, y_test)\n",
        "print('정확도 측정', test_acc)"
      ],
      "execution_count": null,
      "outputs": [
        {
          "output_type": "stream",
          "text": [
            "313/313 [==============================] - 1s 2ms/step - loss: 0.0716 - accuracy: 0.9784\n",
            "정확도 측정 0.9783999919891357\n"
          ],
          "name": "stdout"
        }
      ]
    },
    {
      "cell_type": "code",
      "metadata": {
        "id": "A-fk-c3K6V_E",
        "outputId": "7a6d9529-1fc8-4752-baab-ae0324067356",
        "colab": {
          "base_uri": "https://localhost:8080/"
        }
      },
      "source": [
        "loss, accuracy = [], []\n",
        "for i in range(10):\n",
        "    model.fit(X, y, epochs=1)\n",
        "    loss.append(model.evaluate(X_test, y_test)[0])\n",
        "    accuracy.append(model.evaluate(X_test, y_test)[1])\n",
        "\n",
        "print(accuracy)"
      ],
      "execution_count": null,
      "outputs": [
        {
          "output_type": "stream",
          "text": [
            "1875/1875 [==============================] - 7s 4ms/step - loss: 0.0212 - accuracy: 0.9929\n",
            "313/313 [==============================] - 1s 2ms/step - loss: 0.0799 - accuracy: 0.9784\n",
            "313/313 [==============================] - 1s 2ms/step - loss: 0.0799 - accuracy: 0.9784\n",
            "1875/1875 [==============================] - 7s 4ms/step - loss: 0.0166 - accuracy: 0.9943\n",
            "313/313 [==============================] - 1s 2ms/step - loss: 0.0745 - accuracy: 0.9804\n",
            "313/313 [==============================] - 1s 2ms/step - loss: 0.0745 - accuracy: 0.9804\n",
            "1875/1875 [==============================] - 7s 4ms/step - loss: 0.0132 - accuracy: 0.9957\n",
            "313/313 [==============================] - 1s 2ms/step - loss: 0.0697 - accuracy: 0.9829\n",
            "313/313 [==============================] - 1s 2ms/step - loss: 0.0697 - accuracy: 0.9829\n",
            "1875/1875 [==============================] - 8s 4ms/step - loss: 0.0120 - accuracy: 0.9962\n",
            "313/313 [==============================] - 1s 2ms/step - loss: 0.0740 - accuracy: 0.9822\n",
            "313/313 [==============================] - 1s 2ms/step - loss: 0.0740 - accuracy: 0.9822\n",
            "1875/1875 [==============================] - 7s 4ms/step - loss: 0.0115 - accuracy: 0.9959\n",
            "313/313 [==============================] - 1s 2ms/step - loss: 0.0897 - accuracy: 0.9812\n",
            "313/313 [==============================] - 1s 2ms/step - loss: 0.0897 - accuracy: 0.9812\n",
            "1875/1875 [==============================] - 7s 4ms/step - loss: 0.0094 - accuracy: 0.9969\n",
            "313/313 [==============================] - 1s 2ms/step - loss: 0.0873 - accuracy: 0.9811\n",
            "313/313 [==============================] - 1s 2ms/step - loss: 0.0873 - accuracy: 0.9811\n",
            "1875/1875 [==============================] - 8s 4ms/step - loss: 0.0101 - accuracy: 0.9966\n",
            "313/313 [==============================] - 1s 2ms/step - loss: 0.0982 - accuracy: 0.9780\n",
            "313/313 [==============================] - 1s 2ms/step - loss: 0.0982 - accuracy: 0.9780\n",
            "1875/1875 [==============================] - 8s 4ms/step - loss: 0.0093 - accuracy: 0.9969\n",
            "313/313 [==============================] - 1s 2ms/step - loss: 0.0915 - accuracy: 0.9799\n",
            "313/313 [==============================] - 1s 2ms/step - loss: 0.0915 - accuracy: 0.9799\n",
            "1875/1875 [==============================] - 8s 4ms/step - loss: 0.0079 - accuracy: 0.9972\n",
            "313/313 [==============================] - 1s 2ms/step - loss: 0.1145 - accuracy: 0.9780\n",
            "313/313 [==============================] - 1s 2ms/step - loss: 0.1145 - accuracy: 0.9780\n",
            "1875/1875 [==============================] - 8s 4ms/step - loss: 0.0085 - accuracy: 0.9970\n",
            "313/313 [==============================] - 1s 2ms/step - loss: 0.0901 - accuracy: 0.9835\n",
            "313/313 [==============================] - 1s 2ms/step - loss: 0.0901 - accuracy: 0.9835\n",
            "[0.9783999919891357, 0.980400025844574, 0.9829000234603882, 0.982200026512146, 0.9811999797821045, 0.9811000227928162, 0.9779999852180481, 0.9799000024795532, 0.9779999852180481, 0.9835000038146973]\n"
          ],
          "name": "stdout"
        }
      ]
    },
    {
      "cell_type": "code",
      "metadata": {
        "id": "P2PQF0Vm8f7c",
        "outputId": "17a3b79e-9e78-4820-eb9f-c73124aa1445",
        "colab": {
          "base_uri": "https://localhost:8080/"
        }
      },
      "source": [
        "accuracy"
      ],
      "execution_count": null,
      "outputs": [
        {
          "output_type": "execute_result",
          "data": {
            "text/plain": [
              "[0.9783999919891357,\n",
              " 0.980400025844574,\n",
              " 0.9829000234603882,\n",
              " 0.982200026512146,\n",
              " 0.9811999797821045,\n",
              " 0.9811000227928162,\n",
              " 0.9779999852180481,\n",
              " 0.9799000024795532,\n",
              " 0.9779999852180481,\n",
              " 0.9835000038146973]"
            ]
          },
          "metadata": {
            "tags": []
          },
          "execution_count": 340
        }
      ]
    },
    {
      "cell_type": "code",
      "metadata": {
        "id": "Z0INc-zu7F4C",
        "outputId": "e08084a9-2ff7-4800-f79d-70e8332c5406",
        "colab": {
          "base_uri": "https://localhost:8080/",
          "height": 265
        }
      },
      "source": [
        "epochs= np.arange(10)\n",
        "\n",
        "plt.plot(epochs, accuracy)\n",
        "plt.show()"
      ],
      "execution_count": null,
      "outputs": [
        {
          "output_type": "display_data",
          "data": {
            "image/png": "[encoded data removed]",
            "text/plain": [
              "<Figure size 432x288 with 1 Axes>"
            ]
          },
          "metadata": {
            "tags": [],
            "needs_background": "light"
          }
        }
      ]
    },
    {
      "cell_type": "code",
      "metadata": {
        "id": "OQ2ml62BAj1y"
      },
      "source": [
        "a2= np.array(accuracy)"
      ],
      "execution_count": null,
      "outputs": []
    },
    {
      "cell_type": "code",
      "metadata": {
        "id": "RdwIQ6C4Aw_7",
        "outputId": "c987b597-be6d-42e8-cb2b-834c98f9321d",
        "colab": {
          "base_uri": "https://localhost:8080/"
        }
      },
      "source": [
        "a2"
      ],
      "execution_count": null,
      "outputs": [
        {
          "output_type": "execute_result",
          "data": {
            "text/plain": [
              "array([0.97839999, 0.98040003, 0.98290002, 0.98220003, 0.98119998,\n",
              "       0.98110002, 0.97799999, 0.9799    , 0.97799999, 0.9835    ])"
            ]
          },
          "metadata": {
            "tags": []
          },
          "execution_count": 343
        }
      ]
    },
    {
      "cell_type": "code",
      "metadata": {
        "id": "q9IFMKvUA0dD",
        "outputId": "07f09908-df31-48c8-988e-fff7f6487f7c",
        "colab": {
          "base_uri": "https://localhost:8080/"
        }
      },
      "source": [
        "epochs"
      ],
      "execution_count": null,
      "outputs": [
        {
          "output_type": "execute_result",
          "data": {
            "text/plain": [
              "array([0, 1, 2, 3, 4, 5, 6, 7, 8, 9])"
            ]
          },
          "metadata": {
            "tags": []
          },
          "execution_count": 344
        }
      ]
    },
    {
      "cell_type": "code",
      "metadata": {
        "id": "KFZsLt1g-Xbg",
        "outputId": "18d371a3-5e32-4e23-fc40-91a454454ea2",
        "colab": {
          "base_uri": "https://localhost:8080/",
          "height": 324
        }
      },
      "source": [
        "fig = plt.figure(figsize=(15,5))\n",
        "ax = fig.add_subplot(1,1,1)\n",
        "\n",
        "x=epochs\n",
        "y=a2\n",
        "ax.set_yticks(np.arange(0.970,0.985,0.001))\n",
        "ax.set_xlim([0,9])\n",
        "ax.set_ylim(([0.970,0.985]))\n",
        "ax.plot(x, y)\n",
        "plt.show()"
      ],
      "execution_count": null,
      "outputs": [
        {
          "output_type": "display_data",
          "data": {
            "image/png": "[encoded data removed]",
            "text/plain": [
              "<Figure size 1080x360 with 1 Axes>"
            ]
          },
          "metadata": {
            "tags": [],
            "needs_background": "light"
          }
        }
      ]
    },
    {
      "cell_type": "markdown",
      "metadata": {
        "id": "A-0t1Shn88QF"
      },
      "source": [
        "**x축=에포크 Y축= 정확도**"
      ]
    },
    {
      "cell_type": "markdown",
      "metadata": {
        "id": "1xsVoXgA2D-M"
      },
      "source": [
        "## 2. Fashin MNIST \n",
        "#### MNIST 패션 이미지를 딥러닝을 이용하여 분류하시오."
      ]
    },
    {
      "cell_type": "markdown",
      "metadata": {
        "id": "61THU9aY2D-M"
      },
      "source": [
        "MNIST 패션데이터는 10종류의 60000개 패션 학습데이터와 10000개의 테스트 데이터로 구성되어 있습니다. 각각의 레이블의 의미는 다음과 같습니다.\n",
        "\n",
        "| Label | Description |\n",
        "| --- | --- |\n",
        "| 0 | T-shirt/top |\n",
        "| 1 | Trouser |\n",
        "| 2 | Pullover |\n",
        "| 3 | Dress |\n",
        "| 4 | Coat |\n",
        "| 5 | Sandal |\n",
        "| 6 | Shirt |\n",
        "| 7 | Sneaker |\n",
        "| 8 | Bag |\n",
        "| 9 | Ankle boot |"
      ]
    },
    {
      "cell_type": "code",
      "metadata": {
        "id": "BTyQn9pu2D-N"
      },
      "source": [
        "from keras.datasets import fashion_mnist\n",
        "\n",
        "(X2, y2), (X2_test, y2_test) = fashion_mnist.load_data()"
      ],
      "execution_count": null,
      "outputs": []
    },
    {
      "cell_type": "code",
      "metadata": {
        "id": "P0u1Y5mbOBIY",
        "outputId": "0b01acaa-c88f-476d-f5c6-9ffe5954f994",
        "colab": {
          "base_uri": "https://localhost:8080/"
        }
      },
      "source": [
        "X2_test.shape"
      ],
      "execution_count": null,
      "outputs": [
        {
          "output_type": "execute_result",
          "data": {
            "text/plain": [
              "(10000, 28, 28)"
            ]
          },
          "metadata": {
            "tags": []
          },
          "execution_count": 347
        }
      ]
    },
    {
      "cell_type": "code",
      "metadata": {
        "id": "X-lehcaM2D-U",
        "outputId": "06445922-dedb-4f01-c788-bbf716979e8c",
        "colab": {
          "base_uri": "https://localhost:8080/",
          "height": 283
        }
      },
      "source": [
        "y2[0], plt.imshow(X2[0],cmap=plt.cm.binary) # Ankle boot"
      ],
      "execution_count": null,
      "outputs": [
        {
          "output_type": "execute_result",
          "data": {
            "text/plain": [
              "(9, <matplotlib.image.AxesImage at 0x7f6078c66630>)"
            ]
          },
          "metadata": {
            "tags": []
          },
          "execution_count": 348
        },
        {
          "output_type": "display_data",
          "data": {
            "image/png": "[encoded data removed]",
            "text/plain": [
              "<Figure size 432x288 with 1 Axes>"
            ]
          },
          "metadata": {
            "tags": [],
            "needs_background": "light"
          }
        }
      ]
    },
    {
      "cell_type": "code",
      "metadata": {
        "id": "6dIs9o_Y2D-Y",
        "outputId": "cf09c7c7-3766-43fc-adb6-bd615377628e",
        "colab": {
          "base_uri": "https://localhost:8080/",
          "height": 283
        }
      },
      "source": [
        "y2[1], plt.imshow(X2[1],cmap=plt.cm.binary) # T-shirt"
      ],
      "execution_count": null,
      "outputs": [
        {
          "output_type": "execute_result",
          "data": {
            "text/plain": [
              "(0, <matplotlib.image.AxesImage at 0x7f6078afb4e0>)"
            ]
          },
          "metadata": {
            "tags": []
          },
          "execution_count": 349
        },
        {
          "output_type": "display_data",
          "data": {
            "image/png": "[encoded data removed]",
            "text/plain": [
              "<Figure size 432x288 with 1 Axes>"
            ]
          },
          "metadata": {
            "tags": [],
            "needs_background": "light"
          }
        }
      ]
    },
    {
      "cell_type": "markdown",
      "metadata": {
        "id": "rMEUbMAh2D-b"
      },
      "source": [
        "* 손글씨 데이터 분류처럼 패션 데이터를 딥러닝을 이용하여 분류하시오.  \n"
      ]
    },
    {
      "cell_type": "code",
      "metadata": {
        "id": "7EqFombw2D-c"
      },
      "source": [
        "X2, X2_test = X2/255.0, X2_test/255.0"
      ],
      "execution_count": null,
      "outputs": []
    },
    {
      "cell_type": "code",
      "metadata": {
        "id": "BP04y52VDvWT"
      },
      "source": [
        "model = tf.keras.models.Sequential([\n",
        "    tf.keras.layers.Flatten(input_shape=(28, 28)),\n",
        "    tf.keras.layers.Dense(512, activation=tf.nn.relu),\n",
        "    tf.keras.layers.Dense(10, activation=tf.nn.softmax)\n",
        "])\n",
        "\n",
        "model.compile(optimizer='adam',\n",
        "              loss='sparse_categorical_crossentropy',\n",
        "              metrics=['accuracy'])"
      ],
      "execution_count": null,
      "outputs": []
    },
    {
      "cell_type": "code",
      "metadata": {
        "id": "GZWZ75zEELrH",
        "outputId": "bc178844-a828-49c5-b38b-a06144c96a90",
        "colab": {
          "base_uri": "https://localhost:8080/"
        }
      },
      "source": [
        "model.fit(X2, y2, epochs=5)\n",
        "\n",
        "test_loss, test_acc = model.evaluate(X2, y2)\n",
        "print('정확도 측정', test_acc2)"
      ],
      "execution_count": null,
      "outputs": [
        {
          "output_type": "stream",
          "text": [
            "Epoch 1/5\n",
            "1875/1875 [==============================] - 9s 5ms/step - loss: 0.4739 - accuracy: 0.8315\n",
            "Epoch 2/5\n",
            "1875/1875 [==============================] - 8s 4ms/step - loss: 0.3596 - accuracy: 0.8699\n",
            "Epoch 3/5\n",
            "1875/1875 [==============================] - 8s 4ms/step - loss: 0.3212 - accuracy: 0.8800\n",
            "Epoch 4/5\n",
            "1875/1875 [==============================] - 8s 4ms/step - loss: 0.2984 - accuracy: 0.8901\n",
            "Epoch 5/5\n",
            "1875/1875 [==============================] - 7s 4ms/step - loss: 0.2796 - accuracy: 0.8949\n",
            "1875/1875 [==============================] - 4s 2ms/step - loss: 0.2441 - accuracy: 0.9104\n",
            "정확도 측정 0.9026833176612854\n"
          ],
          "name": "stdout"
        }
      ]
    }
  ]
}